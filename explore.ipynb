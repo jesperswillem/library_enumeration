{
 "cells": [
  {
   "cell_type": "code",
   "execution_count": 2,
   "id": "3ffe0d17-02ca-4abf-84e3-a04e99d8222d",
   "metadata": {},
   "outputs": [],
   "source": [
    "from pathlib import Path\n",
    "import math\n",
    "import glob\n",
    "\n",
    "import numpy as np\n",
    "import pandas as pd\n",
    "import matplotlib.pyplot as plt\n",
    "from matplotlib.lines import Line2D\n",
    "import matplotlib.patches as mpatches\n",
    "from rdkit import Chem\n",
    "from rdkit.Chem import Descriptors, Draw, PandasTools"
   ]
  },
  {
   "cell_type": "code",
   "execution_count": 3,
   "id": "3ead7b18-4506-4580-8ed4-ca38db5abe2e",
   "metadata": {},
   "outputs": [],
   "source": [
    "sdfs = glob.glob('/home/willem/data/library_enumeration/LC_DNA-encoded_DEL_Reagents_and_Building_Blocks.sdf')"
   ]
  },
  {
   "cell_type": "code",
   "execution_count": 4,
   "id": "2690c0a1-9d91-41e9-bc82-b8105d9d659b",
   "metadata": {},
   "outputs": [],
   "source": [
    "frame = PandasTools.LoadSDF(sdfs[0],smilesName='SMILES',molColName='Molecule',\n",
    "           includeFingerprints=True)"
   ]
  },
  {
   "cell_type": "code",
   "execution_count": 5,
   "id": "ad245a18-a4b2-468f-8bdc-30b945745bb7",
   "metadata": {},
   "outputs": [],
   "source": [
    "frame[\"molecular_weight\"] = frame[\"Molecule\"].apply(Descriptors.ExactMolWt)\n",
    "frame[\"n_hba\"] = frame[\"Molecule\"].apply(Descriptors.NumHAcceptors)\n",
    "frame[\"n_hbd\"] = frame[\"Molecule\"].apply(Descriptors.NumHDonors)\n",
    "frame[\"logp\"] = frame[\"Molecule\"].apply(Descriptors.MolLogP)"
   ]
  },
  {
   "cell_type": "code",
   "execution_count": 14,
   "id": "3b73ac16-1330-40f8-8dc4-bb2e7fa28f52",
   "metadata": {},
   "outputs": [
    {
     "ename": "AttributeError",
     "evalue": "module 'pandas.io.formats' has no attribute 'html'",
     "output_type": "error",
     "traceback": [
      "\u001b[0;31m---------------------------------------------------------------------------\u001b[0m",
      "\u001b[0;31mAttributeError\u001b[0m                            Traceback (most recent call last)",
      "\u001b[0;32m~/miniconda3/lib/python3.9/site-packages/IPython/core/formatters.py\u001b[0m in \u001b[0;36m__call__\u001b[0;34m(self, obj)\u001b[0m\n\u001b[1;32m    343\u001b[0m             \u001b[0mmethod\u001b[0m \u001b[0;34m=\u001b[0m \u001b[0mget_real_method\u001b[0m\u001b[0;34m(\u001b[0m\u001b[0mobj\u001b[0m\u001b[0;34m,\u001b[0m \u001b[0mself\u001b[0m\u001b[0;34m.\u001b[0m\u001b[0mprint_method\u001b[0m\u001b[0;34m)\u001b[0m\u001b[0;34m\u001b[0m\u001b[0;34m\u001b[0m\u001b[0m\n\u001b[1;32m    344\u001b[0m             \u001b[0;32mif\u001b[0m \u001b[0mmethod\u001b[0m \u001b[0;32mis\u001b[0m \u001b[0;32mnot\u001b[0m \u001b[0;32mNone\u001b[0m\u001b[0;34m:\u001b[0m\u001b[0;34m\u001b[0m\u001b[0;34m\u001b[0m\u001b[0m\n\u001b[0;32m--> 345\u001b[0;31m                 \u001b[0;32mreturn\u001b[0m \u001b[0mmethod\u001b[0m\u001b[0;34m(\u001b[0m\u001b[0;34m)\u001b[0m\u001b[0;34m\u001b[0m\u001b[0;34m\u001b[0m\u001b[0m\n\u001b[0m\u001b[1;32m    346\u001b[0m             \u001b[0;32mreturn\u001b[0m \u001b[0;32mNone\u001b[0m\u001b[0;34m\u001b[0m\u001b[0;34m\u001b[0m\u001b[0m\n\u001b[1;32m    347\u001b[0m         \u001b[0;32melse\u001b[0m\u001b[0;34m:\u001b[0m\u001b[0;34m\u001b[0m\u001b[0;34m\u001b[0m\u001b[0m\n",
      "\u001b[0;32m~/miniconda3/lib/python3.9/site-packages/rdkit/Chem/PandasTools.py\u001b[0m in \u001b[0;36mpatchPandasrepr\u001b[0;34m(self, **kwargs)\u001b[0m\n\u001b[1;32m    193\u001b[0m   \u001b[0;32mglobal\u001b[0m \u001b[0mdefPandasGetAdjustment\u001b[0m\u001b[0;34m\u001b[0m\u001b[0;34m\u001b[0m\u001b[0m\n\u001b[1;32m    194\u001b[0m \u001b[0;34m\u001b[0m\u001b[0m\n\u001b[0;32m--> 195\u001b[0;31m   \u001b[0mdefHTMLFormatter_write_cell\u001b[0m \u001b[0;34m=\u001b[0m \u001b[0mpd\u001b[0m\u001b[0;34m.\u001b[0m\u001b[0mio\u001b[0m\u001b[0;34m.\u001b[0m\u001b[0mformats\u001b[0m\u001b[0;34m.\u001b[0m\u001b[0mhtml\u001b[0m\u001b[0;34m.\u001b[0m\u001b[0mHTMLFormatter\u001b[0m\u001b[0;34m.\u001b[0m\u001b[0m_write_cell\u001b[0m\u001b[0;34m\u001b[0m\u001b[0;34m\u001b[0m\u001b[0m\n\u001b[0m\u001b[1;32m    196\u001b[0m   \u001b[0mpd\u001b[0m\u001b[0;34m.\u001b[0m\u001b[0mio\u001b[0m\u001b[0;34m.\u001b[0m\u001b[0mformats\u001b[0m\u001b[0;34m.\u001b[0m\u001b[0mhtml\u001b[0m\u001b[0;34m.\u001b[0m\u001b[0mHTMLFormatter\u001b[0m\u001b[0;34m.\u001b[0m\u001b[0m_write_cell\u001b[0m \u001b[0;34m=\u001b[0m \u001b[0m_patched_HTMLFormatter_write_cell\u001b[0m\u001b[0;34m\u001b[0m\u001b[0;34m\u001b[0m\u001b[0m\n\u001b[1;32m    197\u001b[0m \u001b[0;34m\u001b[0m\u001b[0m\n",
      "\u001b[0;31mAttributeError\u001b[0m: module 'pandas.io.formats' has no attribute 'html'"
     ]
    },
    {
     "data": {
      "text/plain": [
       "      Mol Weight     Formula    IDNUMBER  \\\n",
       "0         177.08   C6H2F3NO2  F0001-0004   \n",
       "1         200.28  C10H20N2O2  F0001-0005   \n",
       "2         157.55   C6H4ClNO2  F0001-0006   \n",
       "3         153.14    C6H7N3O2  F0001-0009   \n",
       "4         165.15     C8H7NO3  F0001-0011   \n",
       "...          ...         ...         ...   \n",
       "70426     259.26  C10H17N3O5  F9995-4305   \n",
       "70427     280.37   C18H20N2O  F9995-4313   \n",
       "70428     234.17   C10H6N2O5  F9995-4327   \n",
       "70429     225.87   C3H2Br2N2  F9995-4361   \n",
       "70430     139.60   C5H11ClFN  F9995-4363   \n",
       "\n",
       "                                           Chemical_Name           CAS  clogP  \\\n",
       "0                         1,2,4-Trifluoro-5-nitrobenzene     2105-61-5   2.34   \n",
       "1             tert-butyl 4-aminopiperidine-1-carboxylate    87120-72-7   0.30   \n",
       "2                                1-chloro-4-nitrobenzene      100-00-5   2.52   \n",
       "3                               (4-nitrophenyl)hydrazine      100-16-3   1.30   \n",
       "4                           1-(4-nitrophenyl)ethan-1-one      100-19-6   1.47   \n",
       "...                                                  ...           ...    ...   \n",
       "70426  2-(4-(3-aminopropyl)-1H-pyrazol-1-yl)ethan-1-o...  2303565-97-9  -1.00   \n",
       "70427  3-benzyl-1,2,3,4,5,6-hexahydro-8H-1,5-methanop...   109667-42-7   2.26   \n",
       "70428       4-hydroxy-8-nitroquinoline-3-carboxylic acid    35973-25-2   2.99   \n",
       "70429                           2,4-dibromo-1H-imidazole    64591-03-3   1.89   \n",
       "70430  (1R,2R)-2-fluorocyclopentan-1-amine hydrochloride  2125943-82-8   0.65   \n",
       "\n",
       "           MW Acceptor Donor RotBonds  ... PriceCoeff Description  FSP3  \\\n",
       "0      177.08        2     0        1  ...        NaN         NaN   NaN   \n",
       "1      200.28        2     1        2  ...        NaN         NaN   NaN   \n",
       "2      157.55        2     0        1  ...        NaN         NaN   NaN   \n",
       "3      153.14        4     2        2  ...        NaN         NaN   NaN   \n",
       "4      165.15        3     0        2  ...        NaN         NaN   NaN   \n",
       "...       ...      ...   ...      ...  ...        ...         ...   ...   \n",
       "70426  169.22        2     2        5  ...       1.00       solid  0.62   \n",
       "70427  280.36        1     1        2  ...       1.50       solid  0.39   \n",
       "70428  234.17        6     2        2  ...       1.00       solid  0.00   \n",
       "70429  225.87        1     1        0  ...        NaN         NaN   NaN   \n",
       "70430  103.14        0     1        0  ...       1.00       solid  1.00   \n",
       "\n",
       "         HAC Collection LCTNUMBER molecular_weight n_hba n_hbd    logp  \n",
       "0        NaN        NaN       NaN       177.003763     2     0  2.0121  \n",
       "1        NaN        NaN       NaN       200.152478     3     1  1.3446  \n",
       "2        NaN        NaN       NaN       156.993056     2     0  2.2482  \n",
       "3        NaN        NaN       NaN       153.053826     4     2  0.8804  \n",
       "4        NaN        NaN       NaN       165.042593     3     0  1.7974  \n",
       "...      ...        ...       ...              ...   ...   ...     ...  \n",
       "70426  12.00    General       NaN       259.116821     6     4 -1.0777  \n",
       "70427  21.00   Advanced       NaN       280.157563     3     0  2.4676  \n",
       "70428  17.00    General       NaN       234.027671     5     2  1.5468  \n",
       "70429    NaN        NaN       NaN       223.858472     1     1  1.9347  \n",
       "70430   7.00    General       NaN       139.056405     1     1  1.2575  \n",
       "\n",
       "[70431 rows x 28 columns]"
      ]
     },
     "execution_count": 14,
     "metadata": {},
     "output_type": "execute_result"
    }
   ],
   "source": [
    "frame"
   ]
  },
  {
   "cell_type": "code",
   "execution_count": null,
   "id": "e4fda007-c7b9-4bae-8b82-36368689edbc",
   "metadata": {},
   "outputs": [],
   "source": []
  }
 ],
 "metadata": {
  "kernelspec": {
   "display_name": "Python 3 (ipykernel)",
   "language": "python",
   "name": "python3"
  },
  "language_info": {
   "codemirror_mode": {
    "name": "ipython",
    "version": 3
   },
   "file_extension": ".py",
   "mimetype": "text/x-python",
   "name": "python",
   "nbconvert_exporter": "python",
   "pygments_lexer": "ipython3",
   "version": "3.9.5"
  }
 },
 "nbformat": 4,
 "nbformat_minor": 5
}
